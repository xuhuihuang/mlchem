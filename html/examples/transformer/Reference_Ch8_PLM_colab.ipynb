{
 "cells": [
  {
   "cell_type": "markdown",
   "metadata": {
    "id": "sd4T80tkrFc9"
   },
   "source": [
    "# Predict log EC50s of Dual-Agonists Peptide using Pretrained Protein Language Model"
   ]
  },
  {
   "cell_type": "markdown",
   "metadata": {
    "id": "oLZyeHVlrFc_"
   },
   "source": [
    "The example in this paper is derived from the following paper:\n",
    "\n",
    "Puszkarska, A.M., Taddese, B., Revell, J. et al. Machine learning designs new GCGR/GLP-1R dual agonists with enhanced biological potency. Nat. Chem. (2024)\n",
    "\n",
    "Here is the link to its original github repository [PeptideModels](https://github.com/amp91/PeptideModels)\n",
    "\n",
    "This paper aims to design dual-agonists peptides targeting human GCG and GLP-1 receptors. The loss function of the original model contains the MSE loss of peptide-GCGR log EC50 and the MSE loss of peptide-GLP-1R log EC50, for the purpose of multi-task learning.\n",
    "\n",
    "We have trained 1D convolutional neural networks in chapter 6 on this dataset. In this notebook, we will download a pretrained protein language model (PLM) from `huggingface`, and use the pretrained embeddings to perform few-shot learning.\n",
    "\n",
    "This notebook refers to [Language Model Embeddings Transfer Learning for Downstream Task](https://github.com/Graylab/DL4Proteins-notebooks/blob/main/notebooks/WS05_LanguageModelEmbeddingsTransferLearningForDownstreamTask.ipynb)."
   ]
  },
  {
   "cell_type": "code",
   "execution_count": null,
   "metadata": {
    "colab": {
     "base_uri": "https://localhost:8080/"
    },
    "id": "x_CFY-JArFdA",
    "outputId": "08d6086e-16e2-4ecf-c318-109aa68a737e"
   },
   "outputs": [],
   "source": [
    "!pip install numpy pandas matplotlib torch wget seaborn scikit-learn transformers"
   ]
  },
  {
   "cell_type": "markdown",
   "metadata": {
    "id": "fV80NO6FrFdB"
   },
   "source": [
    "## Import Packages"
   ]
  },
  {
   "cell_type": "code",
   "execution_count": 2,
   "metadata": {
    "id": "nJDjqRXgrFdB"
   },
   "outputs": [],
   "source": [
    "import numpy as np\n",
    "import pandas as pd\n",
    "import matplotlib as mpl\n",
    "import matplotlib.pyplot as plt\n",
    "import seaborn as sns\n",
    "\n",
    "import torch\n",
    "import torch.nn as nn\n",
    "from torch.utils.data import Dataset\n",
    "\n",
    "from sklearn.metrics import r2_score\n",
    "from sklearn.metrics import mean_squared_error\n",
    "\n",
    "mpl.rcParams[\"font.size\"] = 24\n",
    "mpl.rcParams[\"lines.linewidth\"] = 2"
   ]
  },
  {
   "cell_type": "code",
   "execution_count": 3,
   "metadata": {
    "colab": {
     "base_uri": "https://localhost:8080/"
    },
    "id": "tMYTQH1_rFdB",
    "outputId": "e5267e47-9c11-4206-9f51-683a5784727d"
   },
   "outputs": [
    {
     "name": "stdout",
     "output_type": "stream",
     "text": [
      "Device: cuda\n"
     ]
    }
   ],
   "source": [
    "device = \"cuda\" if torch.cuda.is_available() else \"cpu\"\n",
    "print(\"Device:\", device)"
   ]
  },
  {
   "cell_type": "markdown",
   "metadata": {
    "id": "6esJfw4VrFdB"
   },
   "source": [
    "## Load Dataset"
   ]
  },
  {
   "cell_type": "code",
   "execution_count": 4,
   "metadata": {
    "colab": {
     "base_uri": "https://localhost:8080/"
    },
    "id": "Wkhcyu-0rFdA",
    "outputId": "2d56ab74-7dc6-4ee7-bfa6-9898f53ee76e"
   },
   "outputs": [
    {
     "name": "stdout",
     "output_type": "stream",
     "text": [
      "\n",
      "Saved under CNN_training_data (1).csv\n"
     ]
    }
   ],
   "source": [
    "# download the pre-processed dataset from github\n",
    "!python -m wget https://raw.githubusercontent.com/xuhuihuang/uwmadisonchem361/main/CNN_training_data.csv \\\n",
    "--output CNN_training_data.csv"
   ]
  },
  {
   "cell_type": "code",
   "execution_count": 5,
   "metadata": {
    "colab": {
     "base_uri": "https://localhost:8080/",
     "height": 423
    },
    "id": "GTgmaZjDrFdC",
    "outputId": "d9470a3f-d991-4c09-e8a7-9145069b3b18"
   },
   "outputs": [
    {
     "data": {
      "application/vnd.google.colaboratory.intrinsic+json": {
       "summary": "{\n  \"name\": \"df\",\n  \"rows\": 125,\n  \"fields\": [\n    {\n      \"column\": \"pep_ID\",\n      \"properties\": {\n        \"dtype\": \"string\",\n        \"num_unique_values\": 125,\n        \"samples\": [\n          \"seq_pep19\",\n          \"seq_pep43\",\n          \"seq_pep37\"\n        ],\n        \"semantic_type\": \"\",\n        \"description\": \"\"\n      }\n    },\n    {\n      \"column\": \"EC50_T1\",\n      \"properties\": {\n        \"dtype\": \"number\",\n        \"std\": 12905.837429927264,\n        \"min\": 0.83,\n        \"max\": 36700.0,\n        \"num_unique_values\": 113,\n        \"samples\": [\n          2.86,\n          2.87,\n          6850.0\n        ],\n        \"semantic_type\": \"\",\n        \"description\": \"\"\n      }\n    },\n    {\n      \"column\": \"EC50_LOG_T1\",\n      \"properties\": {\n        \"dtype\": \"number\",\n        \"std\": 1.5010999064127146,\n        \"min\": -12.08,\n        \"max\": -7.44,\n        \"num_unique_values\": 84,\n        \"samples\": [\n          -7.48,\n          -11.43,\n          -10.17\n        ],\n        \"semantic_type\": \"\",\n        \"description\": \"\"\n      }\n    },\n    {\n      \"column\": \"EC50_T2\",\n      \"properties\": {\n        \"dtype\": \"number\",\n        \"std\": 9832.943335468832,\n        \"min\": 0.96,\n        \"max\": 33400.0,\n        \"num_unique_values\": 124,\n        \"samples\": [\n          23500.0,\n          2.9,\n          98.7\n        ],\n        \"semantic_type\": \"\",\n        \"description\": \"\"\n      }\n    },\n    {\n      \"column\": \"EC50_LOG_T2\",\n      \"properties\": {\n        \"dtype\": \"number\",\n        \"std\": 1.4852699678574786,\n        \"min\": -12.02,\n        \"max\": -7.48,\n        \"num_unique_values\": 101,\n        \"samples\": [\n          -7.48,\n          -11.16,\n          -9.52\n        ],\n        \"semantic_type\": \"\",\n        \"description\": \"\"\n      }\n    },\n    {\n      \"column\": \"Aligned_Sequence\",\n      \"properties\": {\n        \"dtype\": \"string\",\n        \"num_unique_values\": 125,\n        \"samples\": [\n          \"YAEGTFISDYSIEMDKIHQQDFVNWLLAQK\",\n          \"YAEGTFTSDYSIYLDKQAAYEFVNWLLAGG\",\n          \"YAEGTFTSDYSIYLDIEAAQEFVNWLLAGG\"\n        ],\n        \"semantic_type\": \"\",\n        \"description\": \"\"\n      }\n    }\n  ]\n}",
       "type": "dataframe",
       "variable_name": "df"
      },
      "text/html": [
       "\n",
       "  <div id=\"df-77380802-7f07-47ab-aa5d-bc3157520003\" class=\"colab-df-container\">\n",
       "    <div>\n",
       "<style scoped>\n",
       "    .dataframe tbody tr th:only-of-type {\n",
       "        vertical-align: middle;\n",
       "    }\n",
       "\n",
       "    .dataframe tbody tr th {\n",
       "        vertical-align: top;\n",
       "    }\n",
       "\n",
       "    .dataframe thead th {\n",
       "        text-align: right;\n",
       "    }\n",
       "</style>\n",
       "<table border=\"1\" class=\"dataframe\">\n",
       "  <thead>\n",
       "    <tr style=\"text-align: right;\">\n",
       "      <th></th>\n",
       "      <th>pep_ID</th>\n",
       "      <th>EC50_T1</th>\n",
       "      <th>EC50_LOG_T1</th>\n",
       "      <th>EC50_T2</th>\n",
       "      <th>EC50_LOG_T2</th>\n",
       "      <th>Aligned_Sequence</th>\n",
       "    </tr>\n",
       "  </thead>\n",
       "  <tbody>\n",
       "    <tr>\n",
       "      <th>0</th>\n",
       "      <td>seq_pep1</td>\n",
       "      <td>3.75</td>\n",
       "      <td>-11.43</td>\n",
       "      <td>563.00</td>\n",
       "      <td>-9.25</td>\n",
       "      <td>HSQGTFTSDYSKYLDSRRAQDFVQWLEEGE</td>\n",
       "    </tr>\n",
       "    <tr>\n",
       "      <th>1</th>\n",
       "      <td>seq_pep2</td>\n",
       "      <td>18.50</td>\n",
       "      <td>-10.73</td>\n",
       "      <td>552.00</td>\n",
       "      <td>-9.26</td>\n",
       "      <td>HSQGTFTSDYSKYLDSRRAEDFVQWLENGE</td>\n",
       "    </tr>\n",
       "    <tr>\n",
       "      <th>2</th>\n",
       "      <td>seq_pep3</td>\n",
       "      <td>3.51</td>\n",
       "      <td>-11.45</td>\n",
       "      <td>252.00</td>\n",
       "      <td>-9.60</td>\n",
       "      <td>HSQGTFTSDYSKYLDSRRAEDFVQWLENT-</td>\n",
       "    </tr>\n",
       "    <tr>\n",
       "      <th>3</th>\n",
       "      <td>seq_pep4</td>\n",
       "      <td>50.50</td>\n",
       "      <td>-10.30</td>\n",
       "      <td>6.03</td>\n",
       "      <td>-11.22</td>\n",
       "      <td>HSQGTFTSDYSKYLDSRRAEDFVQWLVAGG</td>\n",
       "    </tr>\n",
       "    <tr>\n",
       "      <th>4</th>\n",
       "      <td>seq_pep5</td>\n",
       "      <td>2.87</td>\n",
       "      <td>-11.54</td>\n",
       "      <td>238.00</td>\n",
       "      <td>-9.62</td>\n",
       "      <td>HSQGTFTSDYSKYLDSRRAQDFVQWLEAEG</td>\n",
       "    </tr>\n",
       "    <tr>\n",
       "      <th>...</th>\n",
       "      <td>...</td>\n",
       "      <td>...</td>\n",
       "      <td>...</td>\n",
       "      <td>...</td>\n",
       "      <td>...</td>\n",
       "      <td>...</td>\n",
       "    </tr>\n",
       "    <tr>\n",
       "      <th>120</th>\n",
       "      <td>seq_pep121</td>\n",
       "      <td>29000.00</td>\n",
       "      <td>-7.54</td>\n",
       "      <td>9.62</td>\n",
       "      <td>-11.02</td>\n",
       "      <td>HGEGTFTSDVSSYMERQSVDEFIAWLLKGR</td>\n",
       "    </tr>\n",
       "    <tr>\n",
       "      <th>121</th>\n",
       "      <td>seq_pep122</td>\n",
       "      <td>29400.00</td>\n",
       "      <td>-7.53</td>\n",
       "      <td>7.94</td>\n",
       "      <td>-11.10</td>\n",
       "      <td>HGEGTFTSDVSSYMESQLVDEFIAWLLKGR</td>\n",
       "    </tr>\n",
       "    <tr>\n",
       "      <th>122</th>\n",
       "      <td>seq_pep123</td>\n",
       "      <td>29500.00</td>\n",
       "      <td>-7.53</td>\n",
       "      <td>29500.00</td>\n",
       "      <td>-7.53</td>\n",
       "      <td>HGEGTFTSDVSSYMEPQSTDEFIAWLLKGR</td>\n",
       "    </tr>\n",
       "    <tr>\n",
       "      <th>123</th>\n",
       "      <td>seq_pep124</td>\n",
       "      <td>29200.00</td>\n",
       "      <td>-7.53</td>\n",
       "      <td>598.00</td>\n",
       "      <td>-9.22</td>\n",
       "      <td>HGEGTFTSDVSSYMDFQSLVEFLAWLLKGR</td>\n",
       "    </tr>\n",
       "    <tr>\n",
       "      <th>124</th>\n",
       "      <td>seq_pep125</td>\n",
       "      <td>1110.00</td>\n",
       "      <td>-8.95</td>\n",
       "      <td>30200.00</td>\n",
       "      <td>-7.52</td>\n",
       "      <td>HGEGTFTSDLSKQMDFESLVLFLEWLDNG-</td>\n",
       "    </tr>\n",
       "  </tbody>\n",
       "</table>\n",
       "<p>125 rows × 6 columns</p>\n",
       "</div>\n",
       "    <div class=\"colab-df-buttons\">\n",
       "\n",
       "  <div class=\"colab-df-container\">\n",
       "    <button class=\"colab-df-convert\" onclick=\"convertToInteractive('df-77380802-7f07-47ab-aa5d-bc3157520003')\"\n",
       "            title=\"Convert this dataframe to an interactive table.\"\n",
       "            style=\"display:none;\">\n",
       "\n",
       "  <svg xmlns=\"http://www.w3.org/2000/svg\" height=\"24px\" viewBox=\"0 -960 960 960\">\n",
       "    <path d=\"M120-120v-720h720v720H120Zm60-500h600v-160H180v160Zm220 220h160v-160H400v160Zm0 220h160v-160H400v160ZM180-400h160v-160H180v160Zm440 0h160v-160H620v160ZM180-180h160v-160H180v160Zm440 0h160v-160H620v160Z\"/>\n",
       "  </svg>\n",
       "    </button>\n",
       "\n",
       "  <style>\n",
       "    .colab-df-container {\n",
       "      display:flex;\n",
       "      gap: 12px;\n",
       "    }\n",
       "\n",
       "    .colab-df-convert {\n",
       "      background-color: #E8F0FE;\n",
       "      border: none;\n",
       "      border-radius: 50%;\n",
       "      cursor: pointer;\n",
       "      display: none;\n",
       "      fill: #1967D2;\n",
       "      height: 32px;\n",
       "      padding: 0 0 0 0;\n",
       "      width: 32px;\n",
       "    }\n",
       "\n",
       "    .colab-df-convert:hover {\n",
       "      background-color: #E2EBFA;\n",
       "      box-shadow: 0px 1px 2px rgba(60, 64, 67, 0.3), 0px 1px 3px 1px rgba(60, 64, 67, 0.15);\n",
       "      fill: #174EA6;\n",
       "    }\n",
       "\n",
       "    .colab-df-buttons div {\n",
       "      margin-bottom: 4px;\n",
       "    }\n",
       "\n",
       "    [theme=dark] .colab-df-convert {\n",
       "      background-color: #3B4455;\n",
       "      fill: #D2E3FC;\n",
       "    }\n",
       "\n",
       "    [theme=dark] .colab-df-convert:hover {\n",
       "      background-color: #434B5C;\n",
       "      box-shadow: 0px 1px 3px 1px rgba(0, 0, 0, 0.15);\n",
       "      filter: drop-shadow(0px 1px 2px rgba(0, 0, 0, 0.3));\n",
       "      fill: #FFFFFF;\n",
       "    }\n",
       "  </style>\n",
       "\n",
       "    <script>\n",
       "      const buttonEl =\n",
       "        document.querySelector('#df-77380802-7f07-47ab-aa5d-bc3157520003 button.colab-df-convert');\n",
       "      buttonEl.style.display =\n",
       "        google.colab.kernel.accessAllowed ? 'block' : 'none';\n",
       "\n",
       "      async function convertToInteractive(key) {\n",
       "        const element = document.querySelector('#df-77380802-7f07-47ab-aa5d-bc3157520003');\n",
       "        const dataTable =\n",
       "          await google.colab.kernel.invokeFunction('convertToInteractive',\n",
       "                                                    [key], {});\n",
       "        if (!dataTable) return;\n",
       "\n",
       "        const docLinkHtml = 'Like what you see? Visit the ' +\n",
       "          '<a target=\"_blank\" href=https://colab.research.google.com/notebooks/data_table.ipynb>data table notebook</a>'\n",
       "          + ' to learn more about interactive tables.';\n",
       "        element.innerHTML = '';\n",
       "        dataTable['output_type'] = 'display_data';\n",
       "        await google.colab.output.renderOutput(dataTable, element);\n",
       "        const docLink = document.createElement('div');\n",
       "        docLink.innerHTML = docLinkHtml;\n",
       "        element.appendChild(docLink);\n",
       "      }\n",
       "    </script>\n",
       "  </div>\n",
       "\n",
       "\n",
       "    <div id=\"df-603bf50f-c600-4901-973d-fb49bdfe62f7\">\n",
       "      <button class=\"colab-df-quickchart\" onclick=\"quickchart('df-603bf50f-c600-4901-973d-fb49bdfe62f7')\"\n",
       "                title=\"Suggest charts\"\n",
       "                style=\"display:none;\">\n",
       "\n",
       "<svg xmlns=\"http://www.w3.org/2000/svg\" height=\"24px\"viewBox=\"0 0 24 24\"\n",
       "     width=\"24px\">\n",
       "    <g>\n",
       "        <path d=\"M19 3H5c-1.1 0-2 .9-2 2v14c0 1.1.9 2 2 2h14c1.1 0 2-.9 2-2V5c0-1.1-.9-2-2-2zM9 17H7v-7h2v7zm4 0h-2V7h2v10zm4 0h-2v-4h2v4z\"/>\n",
       "    </g>\n",
       "</svg>\n",
       "      </button>\n",
       "\n",
       "<style>\n",
       "  .colab-df-quickchart {\n",
       "      --bg-color: #E8F0FE;\n",
       "      --fill-color: #1967D2;\n",
       "      --hover-bg-color: #E2EBFA;\n",
       "      --hover-fill-color: #174EA6;\n",
       "      --disabled-fill-color: #AAA;\n",
       "      --disabled-bg-color: #DDD;\n",
       "  }\n",
       "\n",
       "  [theme=dark] .colab-df-quickchart {\n",
       "      --bg-color: #3B4455;\n",
       "      --fill-color: #D2E3FC;\n",
       "      --hover-bg-color: #434B5C;\n",
       "      --hover-fill-color: #FFFFFF;\n",
       "      --disabled-bg-color: #3B4455;\n",
       "      --disabled-fill-color: #666;\n",
       "  }\n",
       "\n",
       "  .colab-df-quickchart {\n",
       "    background-color: var(--bg-color);\n",
       "    border: none;\n",
       "    border-radius: 50%;\n",
       "    cursor: pointer;\n",
       "    display: none;\n",
       "    fill: var(--fill-color);\n",
       "    height: 32px;\n",
       "    padding: 0;\n",
       "    width: 32px;\n",
       "  }\n",
       "\n",
       "  .colab-df-quickchart:hover {\n",
       "    background-color: var(--hover-bg-color);\n",
       "    box-shadow: 0 1px 2px rgba(60, 64, 67, 0.3), 0 1px 3px 1px rgba(60, 64, 67, 0.15);\n",
       "    fill: var(--button-hover-fill-color);\n",
       "  }\n",
       "\n",
       "  .colab-df-quickchart-complete:disabled,\n",
       "  .colab-df-quickchart-complete:disabled:hover {\n",
       "    background-color: var(--disabled-bg-color);\n",
       "    fill: var(--disabled-fill-color);\n",
       "    box-shadow: none;\n",
       "  }\n",
       "\n",
       "  .colab-df-spinner {\n",
       "    border: 2px solid var(--fill-color);\n",
       "    border-color: transparent;\n",
       "    border-bottom-color: var(--fill-color);\n",
       "    animation:\n",
       "      spin 1s steps(1) infinite;\n",
       "  }\n",
       "\n",
       "  @keyframes spin {\n",
       "    0% {\n",
       "      border-color: transparent;\n",
       "      border-bottom-color: var(--fill-color);\n",
       "      border-left-color: var(--fill-color);\n",
       "    }\n",
       "    20% {\n",
       "      border-color: transparent;\n",
       "      border-left-color: var(--fill-color);\n",
       "      border-top-color: var(--fill-color);\n",
       "    }\n",
       "    30% {\n",
       "      border-color: transparent;\n",
       "      border-left-color: var(--fill-color);\n",
       "      border-top-color: var(--fill-color);\n",
       "      border-right-color: var(--fill-color);\n",
       "    }\n",
       "    40% {\n",
       "      border-color: transparent;\n",
       "      border-right-color: var(--fill-color);\n",
       "      border-top-color: var(--fill-color);\n",
       "    }\n",
       "    60% {\n",
       "      border-color: transparent;\n",
       "      border-right-color: var(--fill-color);\n",
       "    }\n",
       "    80% {\n",
       "      border-color: transparent;\n",
       "      border-right-color: var(--fill-color);\n",
       "      border-bottom-color: var(--fill-color);\n",
       "    }\n",
       "    90% {\n",
       "      border-color: transparent;\n",
       "      border-bottom-color: var(--fill-color);\n",
       "    }\n",
       "  }\n",
       "</style>\n",
       "\n",
       "      <script>\n",
       "        async function quickchart(key) {\n",
       "          const quickchartButtonEl =\n",
       "            document.querySelector('#' + key + ' button');\n",
       "          quickchartButtonEl.disabled = true;  // To prevent multiple clicks.\n",
       "          quickchartButtonEl.classList.add('colab-df-spinner');\n",
       "          try {\n",
       "            const charts = await google.colab.kernel.invokeFunction(\n",
       "                'suggestCharts', [key], {});\n",
       "          } catch (error) {\n",
       "            console.error('Error during call to suggestCharts:', error);\n",
       "          }\n",
       "          quickchartButtonEl.classList.remove('colab-df-spinner');\n",
       "          quickchartButtonEl.classList.add('colab-df-quickchart-complete');\n",
       "        }\n",
       "        (() => {\n",
       "          let quickchartButtonEl =\n",
       "            document.querySelector('#df-603bf50f-c600-4901-973d-fb49bdfe62f7 button');\n",
       "          quickchartButtonEl.style.display =\n",
       "            google.colab.kernel.accessAllowed ? 'block' : 'none';\n",
       "        })();\n",
       "      </script>\n",
       "    </div>\n",
       "    </div>\n",
       "  </div>\n"
      ],
      "text/plain": [
       "         pep_ID   EC50_T1  EC50_LOG_T1   EC50_T2  EC50_LOG_T2  \\\n",
       "0      seq_pep1      3.75       -11.43    563.00        -9.25   \n",
       "1      seq_pep2     18.50       -10.73    552.00        -9.26   \n",
       "2      seq_pep3      3.51       -11.45    252.00        -9.60   \n",
       "3      seq_pep4     50.50       -10.30      6.03       -11.22   \n",
       "4      seq_pep5      2.87       -11.54    238.00        -9.62   \n",
       "..          ...       ...          ...       ...          ...   \n",
       "120  seq_pep121  29000.00        -7.54      9.62       -11.02   \n",
       "121  seq_pep122  29400.00        -7.53      7.94       -11.10   \n",
       "122  seq_pep123  29500.00        -7.53  29500.00        -7.53   \n",
       "123  seq_pep124  29200.00        -7.53    598.00        -9.22   \n",
       "124  seq_pep125   1110.00        -8.95  30200.00        -7.52   \n",
       "\n",
       "                   Aligned_Sequence  \n",
       "0    HSQGTFTSDYSKYLDSRRAQDFVQWLEEGE  \n",
       "1    HSQGTFTSDYSKYLDSRRAEDFVQWLENGE  \n",
       "2    HSQGTFTSDYSKYLDSRRAEDFVQWLENT-  \n",
       "3    HSQGTFTSDYSKYLDSRRAEDFVQWLVAGG  \n",
       "4    HSQGTFTSDYSKYLDSRRAQDFVQWLEAEG  \n",
       "..                              ...  \n",
       "120  HGEGTFTSDVSSYMERQSVDEFIAWLLKGR  \n",
       "121  HGEGTFTSDVSSYMESQLVDEFIAWLLKGR  \n",
       "122  HGEGTFTSDVSSYMEPQSTDEFIAWLLKGR  \n",
       "123  HGEGTFTSDVSSYMDFQSLVEFLAWLLKGR  \n",
       "124  HGEGTFTSDLSKQMDFESLVLFLEWLDNG-  \n",
       "\n",
       "[125 rows x 6 columns]"
      ]
     },
     "execution_count": 5,
     "metadata": {},
     "output_type": "execute_result"
    }
   ],
   "source": [
    "filename = \"CNN_training_data.csv\"\n",
    "df = pd.read_csv(filename)\n",
    "df"
   ]
  },
  {
   "cell_type": "markdown",
   "metadata": {
    "id": "G2cHsHEIrFdC"
   },
   "source": [
    "## Create PyTorch Dataset"
   ]
  },
  {
   "cell_type": "markdown",
   "metadata": {
    "id": "FGVS0bIorFdC"
   },
   "source": [
    "Convert sequence to token ids.\n",
    "\n",
    "**Very important note**: The amino acid encodings are different from those for 1D CNN, because we want to make the encoding consistent with the pretrained protein language models. We will replace the `seq2onehot` function with the ESM2 Tokenizer. The ESM2 pretrained models and tokernizers are available at [huggingface EMS](https://huggingface.co/docs/transformers/en/model_doc/esm)."
   ]
  },
  {
   "cell_type": "code",
   "execution_count": 6,
   "metadata": {
    "colab": {
     "base_uri": "https://localhost:8080/"
    },
    "id": "6nfxQjuDrFdC",
    "outputId": "466a2cee-5805-4087-b0fc-6f8872d83317"
   },
   "outputs": [
    {
     "name": "stderr",
     "output_type": "stream",
     "text": [
      "/usr/local/lib/python3.11/dist-packages/huggingface_hub/utils/_auth.py:94: UserWarning: \n",
      "The secret `HF_TOKEN` does not exist in your Colab secrets.\n",
      "To authenticate with the Hugging Face Hub, create a token in your settings tab (https://huggingface.co/settings/tokens), set it as secret in your Google Colab and restart your session.\n",
      "You will be able to reuse this secret in all of your notebooks.\n",
      "Please note that authentication is recommended but still optional to access public models or datasets.\n",
      "  warnings.warn(\n"
     ]
    },
    {
     "name": "stdout",
     "output_type": "stream",
     "text": [
      "Number of tokens: 33\n",
      "Vocabulary: {'<cls>': 0, '<pad>': 1, '<eos>': 2, '<unk>': 3, 'L': 4, 'A': 5, 'G': 6, 'V': 7, 'S': 8, 'E': 9, 'R': 10, 'T': 11, 'I': 12, 'D': 13, 'P': 14, 'K': 15, 'Q': 16, 'N': 17, 'F': 18, 'Y': 19, 'M': 20, 'H': 21, 'W': 22, 'C': 23, 'X': 24, 'B': 25, 'U': 26, 'Z': 27, 'O': 28, '.': 29, '-': 30, '<null_1>': 31, '<mask>': 32}\n"
     ]
    }
   ],
   "source": [
    "from transformers import AutoTokenizer\n",
    "model_name = \"facebook/esm2_t6_8M_UR50D\"\n",
    "tokenizer = AutoTokenizer.from_pretrained(model_name)\n",
    "print(f\"Number of tokens: {tokenizer.vocab_size}\")\n",
    "print(\"Vocabulary:\", tokenizer.get_vocab())"
   ]
  },
  {
   "cell_type": "markdown",
   "metadata": {
    "id": "wf53Tnn8rFdC"
   },
   "source": [
    "Example of encoding one peptide sequence:"
   ]
  },
  {
   "cell_type": "code",
   "execution_count": 7,
   "metadata": {
    "colab": {
     "base_uri": "https://localhost:8080/"
    },
    "id": "NoeRDXoZrFdC",
    "outputId": "cac41aa7-6f84-4c65-99d7-98d9a3a361c2"
   },
   "outputs": [
    {
     "name": "stdout",
     "output_type": "stream",
     "text": [
      "Sequence: HSQGTFTSDYSKYLDSRRAQDFVQWLEEGE\n",
      "Tokens: ['H', 'S', 'Q', 'G', 'T', 'F', 'T', 'S', 'D', 'Y', 'S', 'K', 'Y', 'L', 'D', 'S', 'R', 'R', 'A', 'Q', 'D', 'F', 'V', 'Q', 'W', 'L', 'E', 'E', 'G', 'E']\n",
      "Token IDs: {'input_ids': tensor([[ 0, 21,  8, 16,  6, 11, 18, 11,  8, 13, 19,  8, 15, 19,  4, 13,  8, 10,\n",
      "         10,  5, 16, 13, 18,  7, 16, 22,  4,  9,  9,  6,  9,  2]]), 'attention_mask': tensor([[1, 1, 1, 1, 1, 1, 1, 1, 1, 1, 1, 1, 1, 1, 1, 1, 1, 1, 1, 1, 1, 1, 1, 1,\n",
      "         1, 1, 1, 1, 1, 1, 1, 1]])}\n"
     ]
    }
   ],
   "source": [
    "seq = df.iloc[0][\"Aligned_Sequence\"]\n",
    "print(f\"Sequence: {seq}\")\n",
    "\n",
    "tokens = tokenizer.tokenize(seq)\n",
    "print(f\"Tokens: {tokens}\")\n",
    "\n",
    "token_ids = tokenizer(seq, max_length=30, \\\n",
    "    padding=False, truncation=False, return_tensors=\"pt\")\n",
    "print(f\"Token IDs: {token_ids}\")"
   ]
  },
  {
   "cell_type": "code",
   "execution_count": 8,
   "metadata": {
    "id": "7v8yoFPDrFdC"
   },
   "outputs": [],
   "source": [
    "def encode_sequence(sequence):\n",
    "    return tokenizer(sequence, padding=False, truncation=False, \\\n",
    "        return_tensors=\"pt\")[\"input_ids\"]"
   ]
  },
  {
   "cell_type": "code",
   "execution_count": 9,
   "metadata": {
    "id": "c1XrpD_FrFdC"
   },
   "outputs": [],
   "source": [
    "class PeptideDataset(Dataset):\n",
    "    def __init__(self, df, encoder,\n",
    "                 seq_col=\"Aligned_Sequence\", target_cols=(\"EC50_LOG_T1\", \"EC50_LOG_T2\")):\n",
    "        self.df = df\n",
    "        self.encoder = encoder\n",
    "        self.seq_col = seq_col\n",
    "        self.target_cols = target_cols\n",
    "\n",
    "    def __len__(self):\n",
    "        return len(self.df)\n",
    "\n",
    "    def __getitem__(self, idx):\n",
    "        row = self.df.iloc[idx]\n",
    "        sequence = row[self.seq_col]\n",
    "        indices = self.encoder(sequence)\n",
    "        label = [row[col] for col in self.target_cols]\n",
    "        return indices.reshape(-1), torch.tensor(label, dtype=float).reshape(-1)"
   ]
  },
  {
   "cell_type": "markdown",
   "metadata": {
    "id": "Puz1uU5ErFdD"
   },
   "source": [
    "## Split Dataset"
   ]
  },
  {
   "cell_type": "code",
   "execution_count": 10,
   "metadata": {
    "colab": {
     "base_uri": "https://localhost:8080/"
    },
    "id": "USBBb1XWrFdD",
    "outputId": "ab54c616-7297-4a02-c516-9381e537caa9"
   },
   "outputs": [
    {
     "name": "stdout",
     "output_type": "stream",
     "text": [
      "Training size: 113, test size: 12\n"
     ]
    }
   ],
   "source": [
    "from sklearn.model_selection import train_test_split\n",
    "\n",
    "# training/validation dataset\n",
    "data_size = df.shape[0]\n",
    "test_ratio = 0.10\n",
    "test_size = int(data_size*test_ratio)\n",
    "train_indices, test_indices = train_test_split(range(data_size), test_size=test_size, shuffle=True)\n",
    "print(f\"Training size: {len(train_indices)}, test size: {len(test_indices)}\")\n",
    "train_df, test_df = df.iloc[train_indices], df.iloc[test_indices]"
   ]
  },
  {
   "cell_type": "code",
   "execution_count": 11,
   "metadata": {
    "id": "DpKlKyLnrFdD"
   },
   "outputs": [],
   "source": [
    "# create dataloaders\n",
    "batch_size = 10\n",
    "encoder = encode_sequence\n",
    "train_data = PeptideDataset(train_df, encoder=encoder)\n",
    "train_loader = torch.utils.data.DataLoader(train_data, batch_size=batch_size,\n",
    "                                           shuffle=True, drop_last=False)\n",
    "test_data = PeptideDataset(test_df, encoder=encoder)\n",
    "test_loader = torch.utils.data.DataLoader(test_data, batch_size=batch_size,\n",
    "                                          shuffle=False, drop_last=False)"
   ]
  },
  {
   "cell_type": "markdown",
   "metadata": {
    "id": "k-9K87v5rFdD"
   },
   "source": [
    "An example of the training data:"
   ]
  },
  {
   "cell_type": "code",
   "execution_count": 12,
   "metadata": {
    "colab": {
     "base_uri": "https://localhost:8080/"
    },
    "id": "PWBd3MNsrFdD",
    "outputId": "508b00c6-12e6-45ff-affe-6ffa0b71f070"
   },
   "outputs": [
    {
     "data": {
      "text/plain": [
       "(tensor([ 0, 21,  8, 16,  6, 11, 18, 11,  8, 13, 19,  8, 15, 19,  4, 13,  8, 10,\n",
       "         10,  5,  9, 13, 18,  7, 16, 22,  4,  7,  5,  6,  6,  2]),\n",
       " tensor([-10.3000, -11.2200], dtype=torch.float64))"
      ]
     },
     "execution_count": 12,
     "metadata": {},
     "output_type": "execute_result"
    }
   ],
   "source": [
    "train_data[0]"
   ]
  },
  {
   "cell_type": "markdown",
   "metadata": {
    "id": "xwtxUIhWrFdD"
   },
   "source": [
    "## Protein Language Model (PLM)\n",
    "\n",
    "We will load pretrained ESM2 model from huggingface."
   ]
  },
  {
   "cell_type": "code",
   "execution_count": 13,
   "metadata": {
    "colab": {
     "base_uri": "https://localhost:8080/"
    },
    "id": "gE2D5XsprFdD",
    "outputId": "cd2beca4-3ad6-474d-fd72-e17a2e942661"
   },
   "outputs": [
    {
     "name": "stderr",
     "output_type": "stream",
     "text": [
      "Some weights of EsmModel were not initialized from the model checkpoint at facebook/esm2_t6_8M_UR50D and are newly initialized: ['pooler.dense.bias', 'pooler.dense.weight']\n",
      "You should probably TRAIN this model on a down-stream task to be able to use it for predictions and inference.\n"
     ]
    },
    {
     "name": "stdout",
     "output_type": "stream",
     "text": [
      "Number of parameters: 7511801\n",
      "Output dictionary keys: odict_keys(['last_hidden_state', 'pooler_output'])\n",
      "Last hidden state shape: torch.Size([1, 3, 320])\n",
      "Pooler output shape: torch.Size([1, 320])\n"
     ]
    }
   ],
   "source": [
    "from transformers import AutoModel\n",
    "model = AutoModel.from_pretrained(model_name)\n",
    "print(\"Number of parameters:\", sum(p.numel() for p in model.parameters() if p.requires_grad))\n",
    "dummy_input = torch.zeros(1, 3).long()\n",
    "output_dct = model(dummy_input)\n",
    "print(\"Output dictionary keys:\", output_dct.keys())\n",
    "print(\"Last hidden state shape:\", output_dct[\"last_hidden_state\"].shape) # per residue\n",
    "print(\"Pooler output shape:\", output_dct[\"pooler_output\"].shape) # per sequence"
   ]
  },
  {
   "cell_type": "markdown",
   "metadata": {
    "id": "P5hQWQ12rFdD"
   },
   "source": [
    "## Model Wrapper\n",
    "\n",
    "We will add two regression head on top of the pretrained model for our downstream tasks."
   ]
  },
  {
   "cell_type": "code",
   "execution_count": 14,
   "metadata": {
    "id": "D7PJBFqLrFdD"
   },
   "outputs": [],
   "source": [
    "import torch.nn as nn\n",
    "class MultiHeadModel(nn.Module):\n",
    "\n",
    "    def __init__(self, esm_name, encoder_frozen=True, dropout=0.3):\n",
    "        super().__init__()\n",
    "        # encode each sequence to a vector\n",
    "        model = AutoModel.from_pretrained(esm_name)\n",
    "        self.base_model = model\n",
    "        self.encoder_frozen = encoder_frozen\n",
    "        if self.encoder_frozen:\n",
    "            for _, param in self.base_model.named_parameters():\n",
    "                param.requires_grad = False\n",
    "\n",
    "        ## calculate output dim of the base model\n",
    "        self.dummy_input = torch.zeros(1, 1)\n",
    "        self.flattened_size = self._calculate_flattened_size()\n",
    "\n",
    "        self.fc = nn.Linear(in_features=self.flattened_size, out_features=64, bias=True)\n",
    "\n",
    "        self.dropout = nn.Dropout(dropout)\n",
    "\n",
    "        # fully connected layer for GCGR\n",
    "        self.head_1 = nn.Linear(in_features=64, out_features=1, bias=True)\n",
    "\n",
    "        # fully connected layer for GLP-1R\n",
    "        self.head_2 = nn.Linear(in_features=64, out_features=1, bias=True)\n",
    "\n",
    "    def _calculate_flattened_size(self):\n",
    "        \"\"\"Pass dummy data through the network to get the flattened size.\"\"\"\n",
    "        with torch.no_grad():\n",
    "            input_seqs = self.dummy_input.long()\n",
    "            base_out_dict = self.base_model(input_seqs)\n",
    "            hidden_dim = base_out_dict[\"pooler_output\"].shape[-1]\n",
    "        return hidden_dim\n",
    "\n",
    "\n",
    "    def forward(self, input_seqs):\n",
    "        input_seqs = input_seqs.long()\n",
    "        base_out_dict = self.base_model(input_seqs)\n",
    "\n",
    "        # amino acid embeddings pooled to a sequence embedding\n",
    "        base_out = base_out_dict[\"pooler_output\"]\n",
    "        base_out = self.fc(base_out)\n",
    "\n",
    "        # two linear head\n",
    "        out_1 = self.head_1(self.dropout(base_out))\n",
    "        out_2 = self.head_2(self.dropout(base_out))\n",
    "\n",
    "        return torch.cat([out_1, out_2], dim=1)"
   ]
  },
  {
   "cell_type": "markdown",
   "metadata": {
    "id": "UFNY0EntrFdD"
   },
   "source": [
    "## Training Utils"
   ]
  },
  {
   "cell_type": "code",
   "execution_count": 15,
   "metadata": {
    "id": "c8OPoaI4rFdE"
   },
   "outputs": [],
   "source": [
    "def train_one_epoch(model, criterion, optimizer, dataloader):\n",
    "    losses = []\n",
    "    model.train()\n",
    "    for x, y_true in dataloader:\n",
    "        if device == \"cuda\":\n",
    "            x, y_true = x.to(device), y_true.to(device)\n",
    "        y_true = y_true.float()\n",
    "        optimizer.zero_grad()\n",
    "        y_pred = model(x)\n",
    "        loss = criterion(y_pred, y_true.squeeze(1))\n",
    "        loss.backward()\n",
    "        optimizer.step()\n",
    "        losses.append(loss.cpu().detach().item())\n",
    "    return losses\n",
    "\n",
    "\n",
    "def val_one_epoch(model, criterion, dataloader):\n",
    "    losses = []\n",
    "    model.eval()\n",
    "    with torch.no_grad():\n",
    "        for x, y_true in dataloader:\n",
    "            if device == \"cuda\":\n",
    "                x, y_true = x.to(device), y_true.to(device)\n",
    "            y_true = y_true.float()\n",
    "            y_pred = model(x)\n",
    "            loss = criterion(y_pred, y_true.squeeze(1))\n",
    "            losses.append(loss.cpu().detach().item())\n",
    "    return losses"
   ]
  },
  {
   "cell_type": "code",
   "execution_count": 16,
   "metadata": {
    "id": "wR9Gp9gQrFdE"
   },
   "outputs": [],
   "source": [
    "# loss function: 0.5 GCGR MSE + 0.5 GLP-1R MSE\n",
    "def multi_task_loss(y_pred, y_true):\n",
    "    y1_pred, y1_true = y_pred[:, 0], y_true[:, 0]\n",
    "    y2_pred, y2_true = y_pred[:, -1], y_true[:, -1]\n",
    "    mse1 = nn.MSELoss()(y1_pred, y1_true)\n",
    "    mse2 = nn.MSELoss()(y2_pred, y2_true)\n",
    "    return 0.5 * mse1 + 0.5 * mse2"
   ]
  },
  {
   "cell_type": "markdown",
   "metadata": {
    "id": "VtHOEBudrFdE"
   },
   "source": [
    "## Training"
   ]
  },
  {
   "cell_type": "code",
   "execution_count": 17,
   "metadata": {
    "colab": {
     "base_uri": "https://localhost:8080/"
    },
    "id": "nAjXHNMLrFdE",
    "outputId": "0209dc16-ea49-4363-a93e-92e3b378f188"
   },
   "outputs": [
    {
     "name": "stderr",
     "output_type": "stream",
     "text": [
      "Some weights of EsmModel were not initialized from the model checkpoint at facebook/esm2_t6_8M_UR50D and are newly initialized: ['pooler.dense.bias', 'pooler.dense.weight']\n",
      "You should probably TRAIN this model on a down-stream task to be able to use it for predictions and inference.\n"
     ]
    },
    {
     "name": "stdout",
     "output_type": "stream",
     "text": [
      "Total number of parameters: 7532475\n"
     ]
    }
   ],
   "source": [
    "model = MultiHeadModel(esm_name=model_name, encoder_frozen=True, dropout=0.3)\n",
    "total_params = sum(p.numel() for p in model.parameters())\n",
    "print(f\"Total number of parameters: {total_params}\")\n",
    "\n",
    "\n",
    "model = model.to(device)\n",
    "model = model.float()\n",
    "criterion = multi_task_loss\n",
    "optimizer = torch.optim.AdamW(model.parameters(), lr=1e-3)\n",
    "n_epochs = 500"
   ]
  },
  {
   "cell_type": "code",
   "execution_count": 18,
   "metadata": {
    "colab": {
     "base_uri": "https://localhost:8080/"
    },
    "id": "xMQJyOKUrFdE",
    "outputId": "eed0edef-dcb9-451d-ed06-ed2cb6618b73"
   },
   "outputs": [
    {
     "name": "stdout",
     "output_type": "stream",
     "text": [
      "Epoch: 0\n",
      "Epoch: 20\n",
      "Epoch: 40\n",
      "Epoch: 60\n",
      "Epoch: 80\n",
      "Epoch: 100\n",
      "Epoch: 120\n",
      "Epoch: 140\n",
      "Epoch: 160\n",
      "Epoch: 180\n",
      "Epoch: 200\n",
      "Epoch: 220\n",
      "Epoch: 240\n",
      "Epoch: 260\n",
      "Epoch: 280\n",
      "Epoch: 300\n",
      "Epoch: 320\n",
      "Epoch: 340\n",
      "Epoch: 360\n",
      "Epoch: 380\n",
      "Epoch: 400\n",
      "Epoch: 420\n",
      "Epoch: 440\n",
      "Epoch: 460\n",
      "Epoch: 480\n"
     ]
    }
   ],
   "source": [
    "train_loss = []\n",
    "val_loss = []\n",
    "\n",
    "for epoch in range(n_epochs):\n",
    "    losses = train_one_epoch(model, criterion, optimizer, train_loader)\n",
    "    train_loss.append(np.mean(losses))\n",
    "    losses = val_one_epoch(model, criterion, test_loader)\n",
    "    val_loss.append(np.mean(losses))\n",
    "    if epoch % 20 == 0:\n",
    "        print(f\"Epoch: {epoch}\")"
   ]
  },
  {
   "cell_type": "code",
   "execution_count": 19,
   "metadata": {
    "colab": {
     "base_uri": "https://localhost:8080/",
     "height": 533
    },
    "id": "_CV_iOBYrFdE",
    "outputId": "9c4edeaa-9578-442a-f30a-e59dc1adc5b8"
   },
   "outputs": [
    {
     "data": {
      "text/plain": [
       "<matplotlib.legend.Legend at 0x7f77046e6310>"
      ]
     },
     "execution_count": 19,
     "metadata": {},
     "output_type": "execute_result"
    },
    {
     "data": {
      "image/png": "[encoded data removed]",
      "text/plain": [
       "<Figure size 500x500 with 1 Axes>"
      ]
     },
     "metadata": {},
     "output_type": "display_data"
    }
   ],
   "source": [
    "f, ax = plt.subplots(1, 1, figsize=(5,5))\n",
    "\n",
    "ax.plot(train_loss, c=\"blue\", label=\"Training\")\n",
    "ax.plot(val_loss, c=\"red\", label=\"Test\")\n",
    "plt.xlabel(\"Epoch\")\n",
    "plt.ylabel(\"Loss\")\n",
    "plt.legend()"
   ]
  },
  {
   "cell_type": "markdown",
   "metadata": {
    "id": "TFzy_rTSrFdE"
   },
   "source": [
    "## Evaluation metrics"
   ]
  },
  {
   "cell_type": "code",
   "execution_count": 20,
   "metadata": {
    "id": "hhY_uAZCrFdE"
   },
   "outputs": [],
   "source": [
    "truths = []\n",
    "predictions = []\n",
    "model.eval()\n",
    "with torch.no_grad():\n",
    "    for x,y in test_loader:\n",
    "        if device == \"cuda\":\n",
    "            x = x.to(device)\n",
    "        x = x.float()\n",
    "\n",
    "        y_pred = model(x)\n",
    "        predictions.extend(y_pred.cpu().detach().numpy().tolist())\n",
    "\n",
    "        y = y.squeeze(1).float().numpy().tolist()\n",
    "        truths.extend(y)"
   ]
  },
  {
   "cell_type": "markdown",
   "metadata": {
    "id": "tnDqN47krFdE"
   },
   "source": [
    "### GCGR"
   ]
  },
  {
   "cell_type": "code",
   "execution_count": 21,
   "metadata": {
    "colab": {
     "base_uri": "https://localhost:8080/",
     "height": 564
    },
    "id": "YiOTA3xprFdE",
    "outputId": "e9adc9a8-7dc2-4096-9cf1-6a53046b6cd9"
   },
   "outputs": [
    {
     "data": {
      "image/png": "[encoded data removed]",
      "text/plain": [
       "<Figure size 600x600 with 3 Axes>"
      ]
     },
     "metadata": {},
     "output_type": "display_data"
    }
   ],
   "source": [
    "y1_true = [pair[0] for pair in truths]\n",
    "y1_pred = [pair[0] for pair in predictions]\n",
    "y2_true = [pair[1] for pair in truths]\n",
    "y2_pred = [pair[1] for pair in predictions]\n",
    "tmp_df = pd.DataFrame({\"y1\": y1_true, r\"$\\hat{y_1}$\": y1_pred,\n",
    "                       \"y2\": y2_true, r\"$\\hat{y_2}$\": y2_pred})\n",
    "\n",
    "# scatter plot\n",
    "g = sns.JointGrid(x=\"y1\", y=r\"$\\hat{y_1}$\", data=tmp_df)\n",
    "g = g.plot_joint(plt.scatter, c=\"green\", alpha=0.5)\n",
    "\n",
    "# line: y_pred = y\n",
    "y_line = np.linspace(np.min(y1_true), np.max(y1_true), 200)\n",
    "g.ax_joint.plot(y_line, y_line, color=\"blue\", linestyle=\"--\");\n",
    "\n",
    "# histograms\n",
    "g = g.plot_marginals(sns.histplot, data=df, color=\"green\", kde=False)\n",
    "\n",
    "g.ax_joint.set_xlim(np.min(y_line), np.max(y_line))\n",
    "g.ax_joint.set_ylim(np.min(y_line), np.max(y_line))\n",
    "\n",
    "plt.show()"
   ]
  },
  {
   "cell_type": "code",
   "execution_count": 22,
   "metadata": {
    "colab": {
     "base_uri": "https://localhost:8080/"
    },
    "id": "XDA5XjXerFdE",
    "outputId": "928afe23-ebbc-45d6-bfae-504636078ac6"
   },
   "outputs": [
    {
     "name": "stdout",
     "output_type": "stream",
     "text": [
      "MSE: 0.51\n",
      "Coefficient of determination: 0.81\n"
     ]
    }
   ],
   "source": [
    "print(f\"MSE: {mean_squared_error(y1_true, y1_pred):.2f}\")\n",
    "print(f\"Coefficient of determination: {r2_score(y1_true, y1_pred):.2f}\")"
   ]
  },
  {
   "cell_type": "markdown",
   "metadata": {
    "id": "FcZS-BAMrFdF"
   },
   "source": [
    "### GLP-1R"
   ]
  },
  {
   "cell_type": "code",
   "execution_count": 23,
   "metadata": {
    "colab": {
     "base_uri": "https://localhost:8080/",
     "height": 564
    },
    "id": "AEPLoyGtrFdF",
    "outputId": "0ef00adc-fd0a-4ed6-c0b4-dc02638a8028"
   },
   "outputs": [
    {
     "data": {
      "image/png": "[encoded data removed]",
      "text/plain": [
       "<Figure size 600x600 with 3 Axes>"
      ]
     },
     "metadata": {},
     "output_type": "display_data"
    }
   ],
   "source": [
    "# scatter plot\n",
    "g = sns.JointGrid(x=\"y2\", y=r\"$\\hat{y_2}$\", data=tmp_df)\n",
    "g = g.plot_joint(plt.scatter, c=\"blue\", alpha=0.5, label=\"GLP-1R\")\n",
    "\n",
    "# line: y_pred = y\n",
    "y_line = np.linspace(np.min(y2_true), np.max(y2_true), 200)\n",
    "g.ax_joint.plot(y_line, y_line, color=\"blue\", linestyle=\"--\");\n",
    "\n",
    "# histograms\n",
    "g = g.plot_marginals(sns.histplot, data=df, color=\"blue\", kde=False)\n",
    "\n",
    "g.ax_joint.set_xlim(np.min(y_line), np.max(y_line))\n",
    "g.ax_joint.set_ylim(np.min(y_line), np.max(y_line))\n",
    "\n",
    "plt.show()"
   ]
  },
  {
   "cell_type": "code",
   "execution_count": 24,
   "metadata": {
    "colab": {
     "base_uri": "https://localhost:8080/"
    },
    "id": "lDTHVfaPrFdL",
    "outputId": "7219927d-5bad-49c3-d559-4c1ddebea6cc"
   },
   "outputs": [
    {
     "name": "stdout",
     "output_type": "stream",
     "text": [
      "MSE: 0.93\n",
      "Coefficient of determination: 0.53\n"
     ]
    }
   ],
   "source": [
    "print(f\"MSE: {mean_squared_error(y2_true, y2_pred):.2f}\")\n",
    "print(f\"Coefficient of determination: {r2_score(y2_true, y2_pred):.2f}\")"
   ]
  },
  {
   "cell_type": "markdown",
   "metadata": {
    "id": "aBhx2ELnrFdL"
   },
   "source": [
    "## Cross Validation\n",
    "\n",
    "Since the model performance variates on this small dataset for different splits. To thoroughly compare the ESM2 fine-tuning results with 1D CNN results, the following blocks are used to conduct a 6-fold cross validation."
   ]
  },
  {
   "cell_type": "code",
   "execution_count": 25,
   "metadata": {
    "id": "SOBjF5T2rFdL"
   },
   "outputs": [],
   "source": [
    "from sklearn.model_selection import KFold\n",
    "\n",
    "batch_size = 10\n",
    "n_splits = 6\n",
    "n_epochs = 600\n",
    "\n",
    "# cross validation\n",
    "kf = KFold(n_splits=n_splits, shuffle=True, random_state=42)\n",
    "all_indices = np.arange(df.shape[0])\n",
    "criterion = multi_task_loss"
   ]
  },
  {
   "cell_type": "code",
   "execution_count": 26,
   "metadata": {
    "id": "uF_M29GBrFdL"
   },
   "outputs": [],
   "source": [
    "def run_one_fold(train_df, test_df):\n",
    "    encoder = encode_sequence\n",
    "    train_data = PeptideDataset(train_df, encoder=encoder)\n",
    "    train_loader = torch.utils.data.DataLoader(train_data, batch_size=batch_size,\n",
    "                                            shuffle=True, drop_last=False)\n",
    "    test_data = PeptideDataset(test_df, encoder=encoder)\n",
    "    test_loader = torch.utils.data.DataLoader(test_data, batch_size=batch_size,\n",
    "                                            shuffle=False, drop_last=False)\n",
    "\n",
    "    model = MultiHeadModel(esm_name=model_name, encoder_frozen=True, dropout=0.3)\n",
    "\n",
    "    model = model.to(device)\n",
    "    model = model.float()\n",
    "\n",
    "    optimizer = torch.optim.AdamW(model.parameters(), lr=1e-3)\n",
    "    train_loss = []\n",
    "    val_loss = []\n",
    "\n",
    "    for epoch in range(n_epochs):\n",
    "        losses = train_one_epoch(model, criterion, optimizer, train_loader)\n",
    "        train_loss.append(np.mean(losses))\n",
    "        losses = val_one_epoch(model, criterion, test_loader)\n",
    "        val_loss.append(np.mean(losses))\n",
    "\n",
    "    truths = []\n",
    "    predictions = []\n",
    "    model.eval()\n",
    "    with torch.no_grad():\n",
    "        for x,y in test_loader:\n",
    "            if device == \"cuda\":\n",
    "                x = x.to(device)\n",
    "            x = x.float()\n",
    "            y_pred = model(x)\n",
    "            predictions.extend(y_pred.cpu().detach().numpy().tolist())\n",
    "\n",
    "            y = y.squeeze(1).float().numpy().tolist()\n",
    "            truths.extend(y)\n",
    "    return truths, predictions"
   ]
  },
  {
   "cell_type": "code",
   "execution_count": 27,
   "metadata": {
    "colab": {
     "base_uri": "https://localhost:8080/"
    },
    "id": "GFMnnMMprFdL",
    "outputId": "7a62ef53-eb58-4422-b955-d81b62bb39be"
   },
   "outputs": [
    {
     "name": "stderr",
     "output_type": "stream",
     "text": [
      "Some weights of EsmModel were not initialized from the model checkpoint at facebook/esm2_t6_8M_UR50D and are newly initialized: ['pooler.dense.bias', 'pooler.dense.weight']\n",
      "You should probably TRAIN this model on a down-stream task to be able to use it for predictions and inference.\n",
      "Some weights of EsmModel were not initialized from the model checkpoint at facebook/esm2_t6_8M_UR50D and are newly initialized: ['pooler.dense.bias', 'pooler.dense.weight']\n",
      "You should probably TRAIN this model on a down-stream task to be able to use it for predictions and inference.\n",
      "Some weights of EsmModel were not initialized from the model checkpoint at facebook/esm2_t6_8M_UR50D and are newly initialized: ['pooler.dense.bias', 'pooler.dense.weight']\n",
      "You should probably TRAIN this model on a down-stream task to be able to use it for predictions and inference.\n",
      "Some weights of EsmModel were not initialized from the model checkpoint at facebook/esm2_t6_8M_UR50D and are newly initialized: ['pooler.dense.bias', 'pooler.dense.weight']\n",
      "You should probably TRAIN this model on a down-stream task to be able to use it for predictions and inference.\n",
      "Some weights of EsmModel were not initialized from the model checkpoint at facebook/esm2_t6_8M_UR50D and are newly initialized: ['pooler.dense.bias', 'pooler.dense.weight']\n",
      "You should probably TRAIN this model on a down-stream task to be able to use it for predictions and inference.\n",
      "Some weights of EsmModel were not initialized from the model checkpoint at facebook/esm2_t6_8M_UR50D and are newly initialized: ['pooler.dense.bias', 'pooler.dense.weight']\n",
      "You should probably TRAIN this model on a down-stream task to be able to use it for predictions and inference.\n"
     ]
    }
   ],
   "source": [
    "from sklearn.metrics import mean_squared_error\n",
    "task_results = []\n",
    "\n",
    "n_threads = n_splits\n",
    "\n",
    "for train_index, test_index in kf.split(all_indices):\n",
    "    train_df, test_df = df.iloc[train_indices], df.iloc[test_indices]\n",
    "    truths, predictions = run_one_fold(train_df, test_df)\n",
    "\n",
    "    y1_true = [pair[0] for pair in truths]\n",
    "    y1_pred = [pair[0] for pair in predictions]\n",
    "    y2_true = [pair[1] for pair in truths]\n",
    "    y2_pred = [pair[1] for pair in predictions]\n",
    "\n",
    "    mse1 = mean_squared_error(y1_true, y1_pred)\n",
    "    mse2 = mean_squared_error(y2_true, y2_pred)\n",
    "    task_results.append([mse1, mse2])"
   ]
  },
  {
   "cell_type": "code",
   "execution_count": 28,
   "metadata": {
    "colab": {
     "base_uri": "https://localhost:8080/"
    },
    "id": "fR9maZXNrFdM",
    "outputId": "8b0ead14-7cde-4253-e1e0-61b3e7edd78e"
   },
   "outputs": [
    {
     "name": "stdout",
     "output_type": "stream",
     "text": [
      "RMSE: [0.80381721 1.06096567]\n",
      "Std of RMSE: [0.17762752 0.03328328]\n"
     ]
    }
   ],
   "source": [
    "avg_rmse = np.array(np.sqrt(task_results)).mean(axis=0)\n",
    "std_rmse = np.array(np.sqrt(task_results)).std(axis=0)\n",
    "print(f\"RMSE: {avg_rmse}\")\n",
    "print(f\"Std of RMSE: {std_rmse}\")"
   ]
  },
  {
   "cell_type": "markdown",
   "metadata": {
    "id": "upgLSFVUrFdM"
   },
   "source": [
    "The following values are the average and stdev of RMSE for the 1D CNN model in chapter 6:\n",
    "\n",
    "```\n",
    "RMSE: [0.66108205 0.93760941]\n",
    "Std of RMSE: [0.0422732  0.02007279]\n",
    "```"
   ]
  },
  {
   "cell_type": "markdown",
   "metadata": {
    "id": "CsenRtxMrFdM"
   },
   "source": []
  }
 ],
 "metadata": {
  "accelerator": "GPU",
  "colab": {
   "gpuType": "T4",
   "provenance": []
  },
  "kernelspec": {
   "display_name": "Python 3",
   "name": "python3"
  },
  "language_info": {
   "codemirror_mode": {
    "name": "ipython",
    "version": 3
   },
   "file_extension": ".py",
   "mimetype": "text/x-python",
   "name": "python",
   "nbconvert_exporter": "python",
   "pygments_lexer": "ipython3",
   "version": "3.10.16"
  }
 },
 "nbformat": 4,
 "nbformat_minor": 0
}
